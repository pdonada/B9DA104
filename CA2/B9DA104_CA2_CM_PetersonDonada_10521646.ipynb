{
 "cells": [
  {
   "cell_type": "code",
   "execution_count": 1,
   "metadata": {},
   "outputs": [],
   "source": [
    "# import objects\n",
    "import os\n",
    "import pandas as pd\n",
    "import numpy as np\n",
    "import seaborn as sns; sns.set(style=\"ticks\", color_codes=True)\n",
    "\n",
    "from sklearn.naive_bayes import GaussianNB\n",
    "from sklearn import metrics\n",
    "from sklearn.feature_selection import SelectKBest\n",
    "from sklearn.feature_selection import chi2"
   ]
  },
  {
   "cell_type": "code",
   "execution_count": 2,
   "metadata": {},
   "outputs": [],
   "source": [
    "# read file\n",
    "data_set = pd.read_csv('raw-responses-1.csv')\n",
    "data_set = data_set.dropna()"
   ]
  },
  {
   "cell_type": "code",
   "execution_count": 3,
   "metadata": {},
   "outputs": [
    {
     "name": "stdout",
     "output_type": "stream",
     "text": [
      "(1586, 65)\n",
      "<class 'pandas.core.frame.DataFrame'>\n",
      "Int64Index: 1586 entries, 0 to 1614\n",
      "Data columns (total 65 columns):\n",
      "q0001          1586 non-null object\n",
      "q0002          1586 non-null object\n",
      "q0004_0001     1586 non-null object\n",
      "q0004_0002     1586 non-null object\n",
      "q0004_0003     1586 non-null object\n",
      "q0004_0004     1586 non-null object\n",
      "q0004_0005     1586 non-null object\n",
      "q0004_0006     1586 non-null object\n",
      "q0005          1586 non-null object\n",
      "q0007_0001     1586 non-null object\n",
      "q0007_0002     1586 non-null object\n",
      "q0007_0003     1586 non-null object\n",
      "q0007_0004     1586 non-null object\n",
      "q0007_0005     1586 non-null object\n",
      "q0007_0006     1586 non-null object\n",
      "q0007_0007     1586 non-null object\n",
      "q0007_0008     1586 non-null object\n",
      "q0007_0009     1586 non-null object\n",
      "q0007_0010     1586 non-null object\n",
      "q0007_0011     1586 non-null object\n",
      "q0008_0001     1586 non-null object\n",
      "q0008_0002     1586 non-null object\n",
      "q0008_0003     1586 non-null object\n",
      "q0008_0004     1586 non-null object\n",
      "q0008_0005     1586 non-null object\n",
      "q0008_0006     1586 non-null object\n",
      "q0008_0007     1586 non-null object\n",
      "q0008_0008     1586 non-null object\n",
      "q0008_0009     1586 non-null object\n",
      "q0008_0010     1586 non-null object\n",
      "q0008_0011     1586 non-null object\n",
      "q0008_0012     1586 non-null object\n",
      "q0009          1586 non-null object\n",
      "q0017          1586 non-null object\n",
      "q0018          1586 non-null object\n",
      "q0020_0001     1586 non-null object\n",
      "q0020_0002     1586 non-null object\n",
      "q0020_0003     1586 non-null object\n",
      "q0020_0004     1586 non-null object\n",
      "q0020_0005     1586 non-null object\n",
      "q0020_0006     1586 non-null object\n",
      "q0021_0001     1586 non-null object\n",
      "q0021_0002     1586 non-null object\n",
      "q0021_0003     1586 non-null object\n",
      "q0021_0004     1586 non-null object\n",
      "q0022          1586 non-null object\n",
      "q0024          1586 non-null object\n",
      "q0025_0001     1586 non-null object\n",
      "q0025_0002     1586 non-null object\n",
      "q0025_0003     1586 non-null object\n",
      "q0026          1586 non-null object\n",
      "q0028          1586 non-null object\n",
      "q0029          1586 non-null object\n",
      "q0030          1586 non-null object\n",
      "q0034          1586 non-null object\n",
      "q0035          1586 non-null object\n",
      "q0036          1586 non-null object\n",
      "race2          1586 non-null object\n",
      "racethn4       1586 non-null object\n",
      "educ3          1586 non-null object\n",
      "educ4          1586 non-null object\n",
      "age3           1586 non-null object\n",
      "kids           1586 non-null object\n",
      "orientation    1586 non-null object\n",
      "weight         1586 non-null float64\n",
      "dtypes: float64(1), object(64)\n",
      "memory usage: 421.3+ KB\n"
     ]
    },
    {
     "data": {
      "text/plain": [
       "q0001          0\n",
       "q0002          0\n",
       "q0004_0001     0\n",
       "q0004_0002     0\n",
       "q0004_0003     0\n",
       "q0004_0004     0\n",
       "q0004_0005     0\n",
       "q0004_0006     0\n",
       "q0005          0\n",
       "q0007_0001     0\n",
       "q0007_0002     0\n",
       "q0007_0003     0\n",
       "q0007_0004     0\n",
       "q0007_0005     0\n",
       "q0007_0006     0\n",
       "q0007_0007     0\n",
       "q0007_0008     0\n",
       "q0007_0009     0\n",
       "q0007_0010     0\n",
       "q0007_0011     0\n",
       "q0008_0001     0\n",
       "q0008_0002     0\n",
       "q0008_0003     0\n",
       "q0008_0004     0\n",
       "q0008_0005     0\n",
       "q0008_0006     0\n",
       "q0008_0007     0\n",
       "q0008_0008     0\n",
       "q0008_0009     0\n",
       "q0008_0010     0\n",
       "              ..\n",
       "q0020_0001     0\n",
       "q0020_0002     0\n",
       "q0020_0003     0\n",
       "q0020_0004     0\n",
       "q0020_0005     0\n",
       "q0020_0006     0\n",
       "q0021_0001     0\n",
       "q0021_0002     0\n",
       "q0021_0003     0\n",
       "q0021_0004     0\n",
       "q0022          0\n",
       "q0024          0\n",
       "q0025_0001     0\n",
       "q0025_0002     0\n",
       "q0025_0003     0\n",
       "q0026          0\n",
       "q0028          0\n",
       "q0029          0\n",
       "q0030          0\n",
       "q0034          0\n",
       "q0035          0\n",
       "q0036          0\n",
       "race2          0\n",
       "racethn4       0\n",
       "educ3          0\n",
       "educ4          0\n",
       "age3           0\n",
       "kids           0\n",
       "orientation    0\n",
       "weight         0\n",
       "Length: 65, dtype: int64"
      ]
     },
     "execution_count": 3,
     "metadata": {},
     "output_type": "execute_result"
    }
   ],
   "source": [
    "# inspect data\n",
    "type(data_set)\n",
    "data_set.head()\n",
    "data_set.describe()\n",
    "data_set.dtypes\n",
    "print(data_set.shape)\n",
    "data_set.info() #count non-null values in the columns\n",
    "data_set.isnull().sum(axis=0) #count blanks in the columns"
   ]
  },
  {
   "cell_type": "code",
   "execution_count": 4,
   "metadata": {},
   "outputs": [],
   "source": [
    "# subset with necessary columns only\n",
    "columns_or = ['q0001','q0002','q0005','q0008_0001','q0008_0002','q0008_0003','q0008_0004','q0008_0005'\n",
    "              ,'q0008_0006','q0008_0007','q0008_0008','q0008_0009','q0008_0010','q0008_0011','q0008_0012'\n",
    "              ,'q0017','q0018','q0022','q0024','q0026','age3','q0028','q0029' ]\n",
    "\n",
    "columns_cat = ['q0001_cat','q0002_cat','q0005_cat','q0008_0001_cat','q0008_0002_cat','q0008_0003_cat'\n",
    "               ,'q0008_0004_cat','q0008_0005_cat','q0008_0006_cat','q0008_0007_cat','q0008_0008_cat'\n",
    "               ,'q0008_0009_cat','q0008_0010_cat','q0008_0011_cat','q0008_0012_cat','q0017_cat','q0018_cat'\n",
    "               ,'q0022_cat','q0024_cat','q0026_cat','age3_cat','q0028_cat','q0029_cat']\n",
    "\n",
    "\n",
    "data_sub = data_set[columns_or]"
   ]
  },
  {
   "cell_type": "code",
   "execution_count": 5,
   "metadata": {},
   "outputs": [
    {
     "name": "stdout",
     "output_type": "stream",
     "text": [
      "<class 'pandas.core.frame.DataFrame'>\n",
      "Int64Index: 1586 entries, 0 to 1614\n",
      "Data columns (total 23 columns):\n",
      "q0001         1586 non-null object\n",
      "q0002         1586 non-null object\n",
      "q0005         1586 non-null object\n",
      "q0008_0001    1586 non-null object\n",
      "q0008_0002    1586 non-null object\n",
      "q0008_0003    1586 non-null object\n",
      "q0008_0004    1586 non-null object\n",
      "q0008_0005    1586 non-null object\n",
      "q0008_0006    1586 non-null object\n",
      "q0008_0007    1586 non-null object\n",
      "q0008_0008    1586 non-null object\n",
      "q0008_0009    1586 non-null object\n",
      "q0008_0010    1586 non-null object\n",
      "q0008_0011    1586 non-null object\n",
      "q0008_0012    1586 non-null object\n",
      "q0017         1586 non-null object\n",
      "q0018         1586 non-null object\n",
      "q0022         1586 non-null object\n",
      "q0024         1586 non-null object\n",
      "q0026         1586 non-null object\n",
      "age3          1586 non-null object\n",
      "q0028         1586 non-null object\n",
      "q0029         1586 non-null object\n",
      "dtypes: object(23)\n",
      "memory usage: 154.9+ KB\n"
     ]
    },
    {
     "data": {
      "text/plain": [
       "q0001         0\n",
       "q0002         0\n",
       "q0005         0\n",
       "q0008_0001    0\n",
       "q0008_0002    0\n",
       "q0008_0003    0\n",
       "q0008_0004    0\n",
       "q0008_0005    0\n",
       "q0008_0006    0\n",
       "q0008_0007    0\n",
       "q0008_0008    0\n",
       "q0008_0009    0\n",
       "q0008_0010    0\n",
       "q0008_0011    0\n",
       "q0008_0012    0\n",
       "q0017         0\n",
       "q0018         0\n",
       "q0022         0\n",
       "q0024         0\n",
       "q0026         0\n",
       "age3          0\n",
       "q0028         0\n",
       "q0029         0\n",
       "dtype: int64"
      ]
     },
     "execution_count": 5,
     "metadata": {},
     "output_type": "execute_result"
    }
   ],
   "source": [
    "# verify data\n",
    "data_sub.dtypes\n",
    "data_sub.info() #count non-null values in the columns\n",
    "data_sub.isnull().sum(axis=0) #count blanks in the columns"
   ]
  },
  {
   "cell_type": "code",
   "execution_count": 6,
   "metadata": {},
   "outputs": [
    {
     "name": "stderr",
     "output_type": "stream",
     "text": [
      "C:\\Users\\pdona\\Anaconda3\\lib\\site-packages\\pandas\\core\\frame.py:3140: SettingWithCopyWarning: \n",
      "A value is trying to be set on a copy of a slice from a DataFrame.\n",
      "Try using .loc[row_indexer,col_indexer] = value instead\n",
      "\n",
      "See the caveats in the documentation: http://pandas.pydata.org/pandas-docs/stable/indexing.html#indexing-view-versus-copy\n",
      "  self[k1] = value[k2]\n"
     ]
    }
   ],
   "source": [
    "# categorical encoding (text data into numerical)\n",
    "obj_df = data_sub\n",
    "\n",
    "# change all columns to 'category' type to apply categorical transformation\n",
    "for col in [columns_or]:\n",
    "    obj_df[col] = obj_df[col].astype('category')"
   ]
  },
  {
   "cell_type": "code",
   "execution_count": 8,
   "metadata": {},
   "outputs": [
    {
     "name": "stderr",
     "output_type": "stream",
     "text": [
      "C:\\Users\\pdona\\Anaconda3\\lib\\site-packages\\ipykernel_launcher.py:2: SettingWithCopyWarning: \n",
      "A value is trying to be set on a copy of a slice from a DataFrame.\n",
      "Try using .loc[row_indexer,col_indexer] = value instead\n",
      "\n",
      "See the caveats in the documentation: http://pandas.pydata.org/pandas-docs/stable/indexing.html#indexing-view-versus-copy\n",
      "  \n",
      "C:\\Users\\pdona\\Anaconda3\\lib\\site-packages\\ipykernel_launcher.py:3: SettingWithCopyWarning: \n",
      "A value is trying to be set on a copy of a slice from a DataFrame.\n",
      "Try using .loc[row_indexer,col_indexer] = value instead\n",
      "\n",
      "See the caveats in the documentation: http://pandas.pydata.org/pandas-docs/stable/indexing.html#indexing-view-versus-copy\n",
      "  This is separate from the ipykernel package so we can avoid doing imports until\n",
      "C:\\Users\\pdona\\Anaconda3\\lib\\site-packages\\ipykernel_launcher.py:4: SettingWithCopyWarning: \n",
      "A value is trying to be set on a copy of a slice from a DataFrame.\n",
      "Try using .loc[row_indexer,col_indexer] = value instead\n",
      "\n",
      "See the caveats in the documentation: http://pandas.pydata.org/pandas-docs/stable/indexing.html#indexing-view-versus-copy\n",
      "  after removing the cwd from sys.path.\n",
      "C:\\Users\\pdona\\Anaconda3\\lib\\site-packages\\ipykernel_launcher.py:5: SettingWithCopyWarning: \n",
      "A value is trying to be set on a copy of a slice from a DataFrame.\n",
      "Try using .loc[row_indexer,col_indexer] = value instead\n",
      "\n",
      "See the caveats in the documentation: http://pandas.pydata.org/pandas-docs/stable/indexing.html#indexing-view-versus-copy\n",
      "  \"\"\"\n",
      "C:\\Users\\pdona\\Anaconda3\\lib\\site-packages\\ipykernel_launcher.py:6: SettingWithCopyWarning: \n",
      "A value is trying to be set on a copy of a slice from a DataFrame.\n",
      "Try using .loc[row_indexer,col_indexer] = value instead\n",
      "\n",
      "See the caveats in the documentation: http://pandas.pydata.org/pandas-docs/stable/indexing.html#indexing-view-versus-copy\n",
      "  \n",
      "C:\\Users\\pdona\\Anaconda3\\lib\\site-packages\\ipykernel_launcher.py:7: SettingWithCopyWarning: \n",
      "A value is trying to be set on a copy of a slice from a DataFrame.\n",
      "Try using .loc[row_indexer,col_indexer] = value instead\n",
      "\n",
      "See the caveats in the documentation: http://pandas.pydata.org/pandas-docs/stable/indexing.html#indexing-view-versus-copy\n",
      "  import sys\n",
      "C:\\Users\\pdona\\Anaconda3\\lib\\site-packages\\ipykernel_launcher.py:8: SettingWithCopyWarning: \n",
      "A value is trying to be set on a copy of a slice from a DataFrame.\n",
      "Try using .loc[row_indexer,col_indexer] = value instead\n",
      "\n",
      "See the caveats in the documentation: http://pandas.pydata.org/pandas-docs/stable/indexing.html#indexing-view-versus-copy\n",
      "  \n",
      "C:\\Users\\pdona\\Anaconda3\\lib\\site-packages\\ipykernel_launcher.py:9: SettingWithCopyWarning: \n",
      "A value is trying to be set on a copy of a slice from a DataFrame.\n",
      "Try using .loc[row_indexer,col_indexer] = value instead\n",
      "\n",
      "See the caveats in the documentation: http://pandas.pydata.org/pandas-docs/stable/indexing.html#indexing-view-versus-copy\n",
      "  if __name__ == '__main__':\n",
      "C:\\Users\\pdona\\Anaconda3\\lib\\site-packages\\ipykernel_launcher.py:10: SettingWithCopyWarning: \n",
      "A value is trying to be set on a copy of a slice from a DataFrame.\n",
      "Try using .loc[row_indexer,col_indexer] = value instead\n",
      "\n",
      "See the caveats in the documentation: http://pandas.pydata.org/pandas-docs/stable/indexing.html#indexing-view-versus-copy\n",
      "  # Remove the CWD from sys.path while we load stuff.\n",
      "C:\\Users\\pdona\\Anaconda3\\lib\\site-packages\\ipykernel_launcher.py:11: SettingWithCopyWarning: \n",
      "A value is trying to be set on a copy of a slice from a DataFrame.\n",
      "Try using .loc[row_indexer,col_indexer] = value instead\n",
      "\n",
      "See the caveats in the documentation: http://pandas.pydata.org/pandas-docs/stable/indexing.html#indexing-view-versus-copy\n",
      "  # This is added back by InteractiveShellApp.init_path()\n",
      "C:\\Users\\pdona\\Anaconda3\\lib\\site-packages\\ipykernel_launcher.py:12: SettingWithCopyWarning: \n",
      "A value is trying to be set on a copy of a slice from a DataFrame.\n",
      "Try using .loc[row_indexer,col_indexer] = value instead\n",
      "\n",
      "See the caveats in the documentation: http://pandas.pydata.org/pandas-docs/stable/indexing.html#indexing-view-versus-copy\n",
      "  if sys.path[0] == '':\n",
      "C:\\Users\\pdona\\Anaconda3\\lib\\site-packages\\ipykernel_launcher.py:13: SettingWithCopyWarning: \n",
      "A value is trying to be set on a copy of a slice from a DataFrame.\n",
      "Try using .loc[row_indexer,col_indexer] = value instead\n",
      "\n",
      "See the caveats in the documentation: http://pandas.pydata.org/pandas-docs/stable/indexing.html#indexing-view-versus-copy\n",
      "  del sys.path[0]\n",
      "C:\\Users\\pdona\\Anaconda3\\lib\\site-packages\\ipykernel_launcher.py:14: SettingWithCopyWarning: \n",
      "A value is trying to be set on a copy of a slice from a DataFrame.\n",
      "Try using .loc[row_indexer,col_indexer] = value instead\n",
      "\n",
      "See the caveats in the documentation: http://pandas.pydata.org/pandas-docs/stable/indexing.html#indexing-view-versus-copy\n",
      "  \n",
      "C:\\Users\\pdona\\Anaconda3\\lib\\site-packages\\ipykernel_launcher.py:15: SettingWithCopyWarning: \n",
      "A value is trying to be set on a copy of a slice from a DataFrame.\n",
      "Try using .loc[row_indexer,col_indexer] = value instead\n",
      "\n",
      "See the caveats in the documentation: http://pandas.pydata.org/pandas-docs/stable/indexing.html#indexing-view-versus-copy\n",
      "  from ipykernel import kernelapp as app\n",
      "C:\\Users\\pdona\\Anaconda3\\lib\\site-packages\\ipykernel_launcher.py:16: SettingWithCopyWarning: \n",
      "A value is trying to be set on a copy of a slice from a DataFrame.\n",
      "Try using .loc[row_indexer,col_indexer] = value instead\n",
      "\n",
      "See the caveats in the documentation: http://pandas.pydata.org/pandas-docs/stable/indexing.html#indexing-view-versus-copy\n",
      "  app.launch_new_instance()\n",
      "C:\\Users\\pdona\\Anaconda3\\lib\\site-packages\\ipykernel_launcher.py:17: SettingWithCopyWarning: \n",
      "A value is trying to be set on a copy of a slice from a DataFrame.\n",
      "Try using .loc[row_indexer,col_indexer] = value instead\n",
      "\n",
      "See the caveats in the documentation: http://pandas.pydata.org/pandas-docs/stable/indexing.html#indexing-view-versus-copy\n",
      "C:\\Users\\pdona\\Anaconda3\\lib\\site-packages\\ipykernel_launcher.py:18: SettingWithCopyWarning: \n",
      "A value is trying to be set on a copy of a slice from a DataFrame.\n",
      "Try using .loc[row_indexer,col_indexer] = value instead\n",
      "\n",
      "See the caveats in the documentation: http://pandas.pydata.org/pandas-docs/stable/indexing.html#indexing-view-versus-copy\n",
      "C:\\Users\\pdona\\Anaconda3\\lib\\site-packages\\ipykernel_launcher.py:19: SettingWithCopyWarning: \n",
      "A value is trying to be set on a copy of a slice from a DataFrame.\n",
      "Try using .loc[row_indexer,col_indexer] = value instead\n",
      "\n",
      "See the caveats in the documentation: http://pandas.pydata.org/pandas-docs/stable/indexing.html#indexing-view-versus-copy\n",
      "C:\\Users\\pdona\\Anaconda3\\lib\\site-packages\\ipykernel_launcher.py:20: SettingWithCopyWarning: \n",
      "A value is trying to be set on a copy of a slice from a DataFrame.\n",
      "Try using .loc[row_indexer,col_indexer] = value instead\n",
      "\n",
      "See the caveats in the documentation: http://pandas.pydata.org/pandas-docs/stable/indexing.html#indexing-view-versus-copy\n",
      "C:\\Users\\pdona\\Anaconda3\\lib\\site-packages\\ipykernel_launcher.py:21: SettingWithCopyWarning: \n",
      "A value is trying to be set on a copy of a slice from a DataFrame.\n",
      "Try using .loc[row_indexer,col_indexer] = value instead\n",
      "\n",
      "See the caveats in the documentation: http://pandas.pydata.org/pandas-docs/stable/indexing.html#indexing-view-versus-copy\n",
      "C:\\Users\\pdona\\Anaconda3\\lib\\site-packages\\ipykernel_launcher.py:22: SettingWithCopyWarning: \n",
      "A value is trying to be set on a copy of a slice from a DataFrame.\n",
      "Try using .loc[row_indexer,col_indexer] = value instead\n",
      "\n",
      "See the caveats in the documentation: http://pandas.pydata.org/pandas-docs/stable/indexing.html#indexing-view-versus-copy\n",
      "C:\\Users\\pdona\\Anaconda3\\lib\\site-packages\\ipykernel_launcher.py:23: SettingWithCopyWarning: \n",
      "A value is trying to be set on a copy of a slice from a DataFrame.\n",
      "Try using .loc[row_indexer,col_indexer] = value instead\n",
      "\n",
      "See the caveats in the documentation: http://pandas.pydata.org/pandas-docs/stable/indexing.html#indexing-view-versus-copy\n",
      "C:\\Users\\pdona\\Anaconda3\\lib\\site-packages\\ipykernel_launcher.py:24: SettingWithCopyWarning: \n",
      "A value is trying to be set on a copy of a slice from a DataFrame.\n",
      "Try using .loc[row_indexer,col_indexer] = value instead\n",
      "\n",
      "See the caveats in the documentation: http://pandas.pydata.org/pandas-docs/stable/indexing.html#indexing-view-versus-copy\n"
     ]
    }
   ],
   "source": [
    "# creating categorical columns based in each df column\n",
    "obj_df['q0001_cat'] = obj_df['q0001'].cat.codes\n",
    "obj_df['q0002_cat'] = obj_df['q0002'].cat.codes\n",
    "obj_df['q0005_cat'] = obj_df['q0005'].cat.codes\n",
    "obj_df['q0008_0001_cat'] = obj_df['q0008_0001'].cat.codes\n",
    "obj_df['q0008_0002_cat'] = obj_df['q0008_0002'].cat.codes\n",
    "obj_df['q0008_0003_cat'] = obj_df['q0008_0003'].cat.codes\n",
    "obj_df['q0008_0004_cat'] = obj_df['q0008_0004'].cat.codes\n",
    "obj_df['q0008_0005_cat'] = obj_df['q0008_0005'].cat.codes\n",
    "obj_df['q0008_0006_cat'] = obj_df['q0008_0006'].cat.codes\n",
    "obj_df['q0008_0007_cat'] = obj_df['q0008_0007'].cat.codes\n",
    "obj_df['q0008_0008_cat'] = obj_df['q0008_0008'].cat.codes\n",
    "obj_df['q0008_0009_cat'] = obj_df['q0008_0009'].cat.codes\n",
    "obj_df['q0008_0010_cat'] = obj_df['q0008_0010'].cat.codes\n",
    "obj_df['q0008_0011_cat'] = obj_df['q0008_0011'].cat.codes\n",
    "obj_df['q0008_0012_cat'] = obj_df['q0008_0012'].cat.codes\n",
    "obj_df['q0017_cat'] = obj_df['q0017'].cat.codes\n",
    "obj_df['q0018_cat'] = obj_df['q0018'].cat.codes\n",
    "obj_df['q0022_cat'] = obj_df['q0022'].cat.codes\n",
    "obj_df['q0024_cat'] = obj_df['q0024'].cat.codes\n",
    "obj_df['q0026_cat'] = obj_df['q0026'].cat.codes\n",
    "obj_df['age3_cat'] = obj_df['age3'].cat.codes\n",
    "obj_df['q0028_cat'] = obj_df['q0028'].cat.codes\n",
    "obj_df['q0029_cat'] = obj_df['q0029'].cat.codes"
   ]
  },
  {
   "cell_type": "code",
   "execution_count": 9,
   "metadata": {},
   "outputs": [],
   "source": [
    "# creating new df excluding original columns\n",
    "df_cat = obj_df.drop(['q0001','q0002','q0005','q0008_0001','q0008_0002','q0008_0003','q0008_0004','q0008_0005'\n",
    "              ,'q0008_0006','q0008_0007','q0008_0008','q0008_0009','q0008_0010','q0008_0011','q0008_0012'\n",
    "              ,'q0017','q0018','q0022','q0024','q0026','age3','q0028','q0029'], axis=1)\n"
   ]
  },
  {
   "cell_type": "code",
   "execution_count": 10,
   "metadata": {},
   "outputs": [],
   "source": [
    "# Gaussian Naive Bayes Classification"
   ]
  },
  {
   "cell_type": "code",
   "execution_count": 12,
   "metadata": {},
   "outputs": [],
   "source": [
    "# creating 'x' and 'y' objects to be used into the Multiple Linear Regression\n",
    "x = pd.DataFrame(df_cat, columns=['q0002_cat','q0005_cat','q0008_0001_cat','q0008_0002_cat','q0008_0003_cat'\n",
    "               ,'q0008_0004_cat','q0008_0005_cat','q0008_0006_cat','q0008_0007_cat','q0008_0008_cat'\n",
    "               ,'q0008_0009_cat','q0008_0010_cat','q0008_0011_cat','q0008_0012_cat','q0017_cat','q0018_cat'\n",
    "               ,'q0022_cat','q0024_cat','q0026_cat','age3_cat','q0028_cat','q0029_cat'])\n",
    "\n",
    "y = pd.DataFrame(df_cat, columns=['q0001_cat'])\n"
   ]
  },
  {
   "cell_type": "code",
   "execution_count": 13,
   "metadata": {},
   "outputs": [],
   "source": [
    "# feature extraction\n",
    "np.set_printoptions(suppress=True)\n",
    "\n",
    "test = SelectKBest(score_func=chi2, k=3)\n",
    "fit = test.fit(x, y)"
   ]
  },
  {
   "cell_type": "code",
   "execution_count": 14,
   "metadata": {},
   "outputs": [
    {
     "name": "stdout",
     "output_type": "stream",
     "text": [
      "[43.464 23.407  4.023 11.993 19.044 13.7    1.813  5.18  20.796 21.17\n",
      "  7.242  3.732  1.19   3.774 10.8   80.027  6.009  3.301  7.886  2.077\n",
      "  1.92   4.463]\n"
     ]
    }
   ],
   "source": [
    "# summarize scores\n",
    "np.set_printoptions(precision=3)\n",
    "print(fit.scores_)"
   ]
  },
  {
   "cell_type": "code",
   "execution_count": 15,
   "metadata": {},
   "outputs": [],
   "source": [
    "# recriating x with better scored features\n",
    "x = pd.DataFrame(df_cat, columns=['q0008_0001_cat','q0029_cat','q0008_0006_cat','q0022_cat','q0008_0009_cat'\n",
    "                                  ,'q0026_cat','q0017_cat','q0008_0002_cat','q0008_0004_cat','q0008_0003_cat'\n",
    "                                  ,'q0008_0007_cat','q0008_0008_cat','q0005_cat','q0002_cat','q0018_cat'])\n"
   ]
  },
  {
   "cell_type": "code",
   "execution_count": 17,
   "metadata": {},
   "outputs": [],
   "source": [
    "# spliting database\n",
    "k2 = int(len(df_cat['q0001_cat']) * 0.2) # 20% samples\n",
    "\n",
    "x_train = x[k2:] #80%\n",
    "x_train = np.c_[np.ones(len(x_train),dtype='int64'),x_train]\n",
    "y_train = y[k2:]\n",
    "\n",
    "x_test = x[:k2] #20%\n",
    "x_test = np.c_[np.ones(len(x_test),dtype='int64'),x_test]\n",
    "y_test = y[:k2]\n",
    "y_test = y_test.round(0)"
   ]
  },
  {
   "cell_type": "code",
   "execution_count": 18,
   "metadata": {},
   "outputs": [
    {
     "name": "stderr",
     "output_type": "stream",
     "text": [
      "C:\\Users\\pdona\\Anaconda3\\lib\\site-packages\\sklearn\\utils\\validation.py:724: DataConversionWarning: A column-vector y was passed when a 1d array was expected. Please change the shape of y to (n_samples, ), for example using ravel().\n",
      "  y = column_or_1d(y, warn=True)\n"
     ]
    },
    {
     "data": {
      "text/plain": [
       "GaussianNB(priors=None, var_smoothing=1e-09)"
      ]
     },
     "execution_count": 18,
     "metadata": {},
     "output_type": "execute_result"
    }
   ],
   "source": [
    "# train the model\n",
    "clf = GaussianNB()\n",
    "clf.fit(x_train, y_train)\n"
   ]
  },
  {
   "cell_type": "code",
   "execution_count": 22,
   "metadata": {},
   "outputs": [],
   "source": [
    "# use the model to predict the labels of the test data\n",
    "predicted = clf.predict(x_test)\n",
    "expected = y_test\n",
    "\n",
    "predicted_df = pd.DataFrame({'q0001_cat':predicted})\n",
    "\n",
    "predicted_m = predicted_df.values\n",
    "exprected_m = expected.values"
   ]
  },
  {
   "cell_type": "code",
   "execution_count": 23,
   "metadata": {},
   "outputs": [
    {
     "name": "stdout",
     "output_type": "stream",
     "text": [
      "Coredictions match(%):  16.09\n",
      "[[  1   0   0   0   0]\n",
      " [  5   0   0   3   0]\n",
      " [ 19   0   4  10   0]\n",
      " [104   0   6  39   8]\n",
      " [ 93   0   3  15   7]]\n"
     ]
    }
   ],
   "source": [
    "# check performance \n",
    "matches = (predicted_m == exprected_m)\n",
    "correct = (matches.sum() / float(len(matches)))*100\n",
    "print('Coredictions match(%): ',correct.round(2))\n",
    "\n",
    "print(metrics.confusion_matrix(exprected_m, predicted_m))"
   ]
  },
  {
   "cell_type": "code",
   "execution_count": null,
   "metadata": {},
   "outputs": [],
   "source": []
  }
 ],
 "metadata": {
  "kernelspec": {
   "display_name": "Python 3",
   "language": "python",
   "name": "python3"
  },
  "language_info": {
   "codemirror_mode": {
    "name": "ipython",
    "version": 3
   },
   "file_extension": ".py",
   "mimetype": "text/x-python",
   "name": "python",
   "nbconvert_exporter": "python",
   "pygments_lexer": "ipython3",
   "version": "3.7.3"
  }
 },
 "nbformat": 4,
 "nbformat_minor": 4
}
